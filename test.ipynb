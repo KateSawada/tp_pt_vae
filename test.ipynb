{
 "cells": [
  {
   "cell_type": "code",
   "execution_count": 25,
   "metadata": {},
   "outputs": [
    {
     "name": "stdout",
     "output_type": "stream",
     "text": [
      "The autoreload extension is already loaded. To reload it, use:\n",
      "  %reload_ext autoreload\n",
      "torch.Size([1, 5, 4, 48, 84])\n"
     ]
    }
   ],
   "source": [
    "%load_ext autoreload\n",
    "%autoreload 2\n",
    "import torch\n",
    "import numpy as np\n",
    "\n",
    "from tp_pt_vae import models\n",
    "\n",
    "n_tracks = 5\n",
    "n_measures = 4\n",
    "measure_resolution = 48\n",
    "n_beats = 4\n",
    "n_pitches = 84\n",
    "d_latent = 64\n",
    "\n",
    "vae = models.VAE(\n",
    "    n_tracks,\n",
    "    n_measures,\n",
    "    measure_resolution,\n",
    "    n_beats,\n",
    "    n_pitches,\n",
    "    d_latent,\n",
    ")\n",
    "\n",
    "_sample = torch.FloatTensor(np.array([np.load(\"/home/ksawada/Documents/lab/lab_research/musegan/data/extracted/data/71843.npy\").astype(np.float32), ]))\n",
    "_sample = torch.permute(_sample, (0, 4, 1, 2, 3))\n",
    "\n",
    "out = vae(_sample)\n",
    "print(out[0][0].shape)\n",
    "\n",
    "\n"
   ]
  },
  {
   "cell_type": "code",
   "execution_count": 11,
   "metadata": {},
   "outputs": [
    {
     "name": "stderr",
     "output_type": "stream",
     "text": [
      " 98%|█████████▊| 90445/92140 [32:30<00:06, 279.57it/s] Exception ignored in: <function _MultiProcessingDataLoaderIter.__del__ at 0x7fc61ab120d0>\n",
      " 98%|█████████▊| 90505/92140 [32:30<00:05, 276.89it/s]Traceback (most recent call last):\n",
      "  File \"/home/ksawada/Documents/lab/lab_research/tp_pt_vae/venv/lib/python3.9/site-packages/torch/utils/data/dataloader.py\", line 1466, in __del__\n",
      "  File \"/home/ksawada/Documents/lab/lab_research/tp_pt_vae/venv/lib/python3.9/site-packages/torch/utils/data/dataloader.py\", line 1449, in _shutdown_workers\n",
      "  File \"/home/ksawada/.pyenv/versions/3.9.1/lib/python3.9/multiprocessing/process.py\", line 160, in is_alive\n",
      "AssertionError: can only test a child process\n",
      "100%|██████████| 92140/92140 [33:03<00:00, 46.44it/s] "
     ]
    },
    {
     "name": "stdout",
     "output_type": "stream",
     "text": [
      "ones/total = 7289648693 / 7430169600 = 0.9810877928008535\n"
     ]
    },
    {
     "name": "stderr",
     "output_type": "stream",
     "text": [
      "\n"
     ]
    }
   ],
   "source": [
    "from torch.utils.data import DataLoader\n",
    "from tqdm import tqdm\n",
    "\n",
    "\n",
    "from tp_pt_vae.datasets import PianorollDataset\n",
    "from tp_pt_vae.bin.train import Collater\n",
    "\n",
    "n_tracks = 5\n",
    "n_measures = 4\n",
    "measure_resolution = 48\n",
    "n_beats = 4\n",
    "n_pitches = 84\n",
    "d_latent = 64\n",
    "batch_size = 1\n",
    "num_workers = 1\n",
    "pin_memory = True\n",
    "\n",
    "dataset = PianorollDataset(\n",
    "    pianoroll_list=\"/home/ksawada/Documents/lab/lab_research/tp_pt_vae/egs/lpd/data/lpd_train.txt\",\n",
    "    n_tracks=n_tracks,\n",
    "    measure_resolution=measure_resolution,\n",
    "    n_pitches=n_pitches,\n",
    "    n_measures=n_measures,\n",
    "    allow_cache=False,\n",
    ")\n",
    "collater = Collater()\n",
    "\n",
    "dataloader = DataLoader(\n",
    "    dataset=dataset,\n",
    "    shuffle=True,\n",
    "    collate_fn=collater,\n",
    "    batch_size=batch_size,\n",
    "    num_workers=num_workers,\n",
    "    sampler=None,\n",
    "    pin_memory=pin_memory,\n",
    ")\n",
    "\n",
    "total = len(dataset) * n_tracks * n_measures * measure_resolution * n_pitches\n",
    "ones = 0\n",
    "for i in tqdm(dataloader):\n",
    "    ones += (i == 0).sum().item()\n",
    "\n",
    "print(f\"ones/total = {ones} / {total} = {ones/total}\")"
   ]
  },
  {
   "cell_type": "code",
   "execution_count": 12,
   "metadata": {},
   "outputs": [
    {
     "data": {
      "text/plain": [
       "0.018912207199146547"
      ]
     },
     "execution_count": 12,
     "metadata": {},
     "output_type": "execute_result"
    }
   ],
   "source": [
    "1 - 0.9810877928008535"
   ]
  },
  {
   "cell_type": "code",
   "execution_count": null,
   "metadata": {},
   "outputs": [],
   "source": []
  }
 ],
 "metadata": {
  "kernelspec": {
   "display_name": "venv",
   "language": "python",
   "name": "python3"
  },
  "language_info": {
   "codemirror_mode": {
    "name": "ipython",
    "version": 3
   },
   "file_extension": ".py",
   "mimetype": "text/x-python",
   "name": "python",
   "nbconvert_exporter": "python",
   "pygments_lexer": "ipython3",
   "version": "3.9.1"
  },
  "orig_nbformat": 4
 },
 "nbformat": 4,
 "nbformat_minor": 2
}
